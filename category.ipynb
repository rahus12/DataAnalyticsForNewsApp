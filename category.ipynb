{
 "cells": [
  {
   "cell_type": "code",
   "execution_count": 2,
   "metadata": {},
   "outputs": [
    {
     "name": "stderr",
     "output_type": "stream",
     "text": [
      "c:\\Users\\Rahul Sampagaon\\AppData\\Local\\Programs\\Python\\Python310\\lib\\site-packages\\tqdm\\auto.py:21: TqdmWarning: IProgress not found. Please update jupyter and ipywidgets. See https://ipywidgets.readthedocs.io/en/stable/user_install.html\n",
      "  from .autonotebook import tqdm as notebook_tqdm\n",
      "WARNING:root:Limited tf.compat.v2.summary API due to missing TensorBoard installation.\n",
      "WARNING:root:Limited tf.compat.v2.summary API due to missing TensorBoard installation.\n",
      "WARNING:root:Limited tf.compat.v2.summary API due to missing TensorBoard installation.\n",
      "WARNING:root:Limited tf.summary API due to missing TensorBoard installation.\n",
      "WARNING:root:Limited tf.compat.v2.summary API due to missing TensorBoard installation.\n"
     ]
    },
    {
     "name": "stdout",
     "output_type": "stream",
     "text": [
      "WARNING:tensorflow:From c:\\Users\\Rahul Sampagaon\\AppData\\Local\\Programs\\Python\\Python310\\lib\\site-packages\\keras\\src\\losses.py:2976: The name tf.losses.sparse_softmax_cross_entropy is deprecated. Please use tf.compat.v1.losses.sparse_softmax_cross_entropy instead.\n",
      "\n"
     ]
    },
    {
     "name": "stderr",
     "output_type": "stream",
     "text": [
      "WARNING:tensorflow:From c:\\Users\\Rahul Sampagaon\\AppData\\Local\\Programs\\Python\\Python310\\lib\\site-packages\\keras\\src\\losses.py:2976: The name tf.losses.sparse_softmax_cross_entropy is deprecated. Please use tf.compat.v1.losses.sparse_softmax_cross_entropy instead.\n",
      "\n"
     ]
    }
   ],
   "source": [
    "from sklearn.metrics.pairwise import cosine_similarity\n",
    "import pandas as pd\n",
    "import numpy as np\n",
    "from sklearn.metrics import classification_report\n",
    "from sentence_transformers import SentenceTransformer"
   ]
  },
  {
   "cell_type": "code",
   "execution_count": 3,
   "metadata": {},
   "outputs": [],
   "source": [
    "model = SentenceTransformer(\"sentence-transformers/all-mpnet-base-v2\")"
   ]
  },
  {
   "cell_type": "code",
   "execution_count": 10,
   "metadata": {},
   "outputs": [],
   "source": [
    "def generateLabelEmbeddings(labels, model):\n",
    "    embeddings = model.encode(labels, show_progress_bar=True)\n",
    "    return embeddings"
   ]
  },
  {
   "cell_type": "code",
   "execution_count": 5,
   "metadata": {},
   "outputs": [],
   "source": [
    "def generateDataEmbeddings(dataframe:pd.DataFrame, model:SentenceTransformer, columns:list):\n",
    "    embeddings = model.encode(dataframe[columns].values, show_progress_bar=True)\n",
    "    return embeddings\n",
    "    "
   ]
  },
  {
   "cell_type": "code",
   "execution_count": 6,
   "metadata": {},
   "outputs": [],
   "source": [
    "def readData(file:str)->pd.DataFrame:\n",
    "    data = pd.read_csv(\"articles.csv\")\n",
    "    data = data.drop(columns='sentiment')\n",
    "    data = data.dropna()\n",
    "    return data"
   ]
  },
  {
   "cell_type": "code",
   "execution_count": 7,
   "metadata": {},
   "outputs": [],
   "source": [
    "def getLabels(label_data):\n",
    "    labels = label_data.category.to_list()\n",
    "    return labels"
   ]
  },
  {
   "cell_type": "code",
   "execution_count": 8,
   "metadata": {},
   "outputs": [],
   "source": [
    "def eval_performance(y_true, y_pred, labels):\n",
    "    pred_label = [labels[pred] for pred in y_pred]\n",
    "    performance = classification_report(y_true, pred_label, labels=labels)\n",
    "    return performance"
   ]
  },
  {
   "cell_type": "code",
   "execution_count": 9,
   "metadata": {},
   "outputs": [],
   "source": [
    "def getPredictions(data_embeddings, label_embeddings):\n",
    "    sim_matrix = cosine_similarity(data_embeddings, label_embeddings)\n",
    "    y_pred = np.argmax(sim_matrix, axis = 1)\n",
    "    return y_pred"
   ]
  },
  {
   "cell_type": "code",
   "execution_count": 11,
   "metadata": {},
   "outputs": [],
   "source": [
    "data = readData(\"articles.csv\")\n",
    "labels = getLabels(data)"
   ]
  },
  {
   "cell_type": "code",
   "execution_count": 63,
   "metadata": {},
   "outputs": [],
   "source": [
    "new_labels = data.category.unique().tolist()\n",
    "new_labels.append('Crime')"
   ]
  },
  {
   "cell_type": "code",
   "execution_count": 64,
   "metadata": {},
   "outputs": [
    {
     "data": {
      "text/plain": [
       "list"
      ]
     },
     "execution_count": 64,
     "metadata": {},
     "output_type": "execute_result"
    }
   ],
   "source": [
    "type(new_labels)"
   ]
  },
  {
   "cell_type": "code",
   "execution_count": 65,
   "metadata": {},
   "outputs": [],
   "source": [
    "new_labels.remove(\"Uber\")\n",
    "new_labels.remove(\"Google\")\n",
    "new_labels.remove(\"Apple\")\n",
    "new_labels.remove(\"Meta\")"
   ]
  },
  {
   "cell_type": "code",
   "execution_count": 66,
   "metadata": {},
   "outputs": [
    {
     "name": "stdout",
     "output_type": "stream",
     "text": [
      "['Sports', 'Finance', 'Fiction', 'Food', 'Business', 'Science', 'Fashion', 'Lifestyle', 'Entertainment', 'Gaming', 'Politics', 'Travel', 'Culture', 'Education', 'Automotive', 'Environment', 'Health', 'Tech', 'History', 'Crime']\n"
     ]
    }
   ],
   "source": [
    "print(new_labels)"
   ]
  },
  {
   "cell_type": "code",
   "execution_count": 67,
   "metadata": {},
   "outputs": [
    {
     "name": "stderr",
     "output_type": "stream",
     "text": [
      "Batches:   0%|          | 0/3 [00:00<?, ?it/s]"
     ]
    },
    {
     "name": "stderr",
     "output_type": "stream",
     "text": [
      "Batches: 100%|██████████| 3/3 [00:00<00:00,  3.80it/s]\n",
      "Batches: 100%|██████████| 1/1 [00:00<00:00, 62.50it/s]\n"
     ]
    }
   ],
   "source": [
    "data_embeddings = generateDataEmbeddings(data, model, [\"title\", \"content\"])\n",
    "label_embeddings = generateLabelEmbeddings(new_labels, model)"
   ]
  },
  {
   "cell_type": "code",
   "execution_count": 37,
   "metadata": {},
   "outputs": [],
   "source": [
    "y_pred = getPredictions(data_embeddings, label_embeddings)"
   ]
  },
  {
   "cell_type": "code",
   "execution_count": 38,
   "metadata": {},
   "outputs": [
    {
     "name": "stdout",
     "output_type": "stream",
     "text": [
      "               precision    recall  f1-score   support\n",
      "\n",
      "       Sports       1.00      1.00      1.00         3\n",
      "      Finance       1.00      1.00      1.00         3\n",
      "      Fiction       1.00      1.00      1.00         3\n",
      "         Food       1.00      1.00      1.00         3\n",
      "     Business       0.60      1.00      0.75         3\n",
      "      Science       1.00      1.00      1.00         3\n",
      "       Google       1.00      1.00      1.00         3\n",
      "        Apple       1.00      1.00      1.00         3\n",
      "      Fashion       1.00      1.00      1.00         3\n",
      "    Lifestyle       1.00      0.67      0.80         3\n",
      "         Uber       1.00      1.00      1.00         3\n",
      "Entertainment       0.00      0.00      0.00         3\n",
      "       Gaming       1.00      1.00      1.00         3\n",
      "     Politics       1.00      1.00      1.00         3\n",
      "       Travel       1.00      1.00      1.00         3\n",
      "      Culture       1.00      0.67      0.80         3\n",
      "    Education       1.00      1.00      1.00         3\n",
      "         Meta       1.00      1.00      1.00         3\n",
      "   Automotive       0.67      1.00      0.80         2\n",
      "  Environment       0.75      1.00      0.86         3\n",
      "       Health       0.75      1.00      0.86         3\n",
      "         Tech       1.00      1.00      1.00         3\n",
      "      History       1.00      1.00      1.00         1\n",
      "\n",
      "     accuracy                           0.92        66\n",
      "    macro avg       0.90      0.93      0.91        66\n",
      " weighted avg       0.90      0.92      0.91        66\n",
      "\n"
     ]
    },
    {
     "name": "stderr",
     "output_type": "stream",
     "text": [
      "c:\\Users\\Rahul Sampagaon\\AppData\\Local\\Programs\\Python\\Python310\\lib\\site-packages\\sklearn\\metrics\\_classification.py:1509: UndefinedMetricWarning: Precision is ill-defined and being set to 0.0 in labels with no predicted samples. Use `zero_division` parameter to control this behavior.\n",
      "  _warn_prf(average, modifier, f\"{metric.capitalize()} is\", len(result))\n",
      "c:\\Users\\Rahul Sampagaon\\AppData\\Local\\Programs\\Python\\Python310\\lib\\site-packages\\sklearn\\metrics\\_classification.py:1509: UndefinedMetricWarning: Precision is ill-defined and being set to 0.0 in labels with no predicted samples. Use `zero_division` parameter to control this behavior.\n",
      "  _warn_prf(average, modifier, f\"{metric.capitalize()} is\", len(result))\n",
      "c:\\Users\\Rahul Sampagaon\\AppData\\Local\\Programs\\Python\\Python310\\lib\\site-packages\\sklearn\\metrics\\_classification.py:1509: UndefinedMetricWarning: Precision is ill-defined and being set to 0.0 in labels with no predicted samples. Use `zero_division` parameter to control this behavior.\n",
      "  _warn_prf(average, modifier, f\"{metric.capitalize()} is\", len(result))\n"
     ]
    }
   ],
   "source": [
    "print(eval_performance(data.category, y_pred, new_labels))"
   ]
  },
  {
   "cell_type": "code",
   "execution_count": 43,
   "metadata": {},
   "outputs": [],
   "source": [
    "large_data = pd.read_csv('large_news_dataset_modified.csv')"
   ]
  },
  {
   "cell_type": "code",
   "execution_count": 44,
   "metadata": {},
   "outputs": [
    {
     "name": "stderr",
     "output_type": "stream",
     "text": [
      "Batches: 100%|██████████| 416/416 [02:34<00:00,  2.69it/s]\n"
     ]
    }
   ],
   "source": [
    "large_data_embeddings = generateDataEmbeddings(large_data, model, [\"title\", \"summary\"])"
   ]
  },
  {
   "cell_type": "code",
   "execution_count": 68,
   "metadata": {},
   "outputs": [],
   "source": [
    "large_data_y_pred = getPredictions(large_data_embeddings, label_embeddings)"
   ]
  },
  {
   "cell_type": "code",
   "execution_count": 69,
   "metadata": {},
   "outputs": [],
   "source": [
    "pred_label = [labels[pred] for pred in large_data_y_pred]"
   ]
  },
  {
   "cell_type": "code",
   "execution_count": null,
   "metadata": {},
   "outputs": [
    {
     "data": {
      "text/plain": [
       "'Lifestyle'"
      ]
     },
     "execution_count": 70,
     "metadata": {},
     "output_type": "execute_result"
    }
   ],
   "source": []
  },
  {
   "cell_type": "code",
   "execution_count": 95,
   "metadata": {},
   "outputs": [
    {
     "name": "stdout",
     "output_type": "stream",
     "text": [
      "title        Diverse areas face car insurance 'ethnicity' bill\n",
      "summary      BBC Verify finds higher quotes in parts of Eng...\n",
      "image_url    https://ichef.bbci.co.uk/ace/standard/240/cpsp...\n",
      "published                        Mon, 26 Feb 2024 00:29:05 GMT\n",
      "url               https://www.bbc.co.uk/news/business-68349396\n",
      "images                                             IMAGE_5.jpg\n",
      "category                                         Entertainment\n",
      "Name: 4, dtype: object\n",
      "Entertainment\n"
     ]
    }
   ],
   "source": [
    "index = 4\n",
    "print(large_data.iloc[index])\n",
    "print(pred_label[index])"
   ]
  },
  {
   "cell_type": "code",
   "execution_count": null,
   "metadata": {},
   "outputs": [],
   "source": []
  },
  {
   "cell_type": "code",
   "execution_count": null,
   "metadata": {},
   "outputs": [],
   "source": [
    "for i in range(len(large_data)):\n",
    "    large_data[i][\"category\"] = pred_label[i]"
   ]
  },
  {
   "cell_type": "code",
   "execution_count": 86,
   "metadata": {},
   "outputs": [],
   "source": [
    "large_data[\"category\"] = pred_label"
   ]
  },
  {
   "cell_type": "code",
   "execution_count": 92,
   "metadata": {},
   "outputs": [
    {
     "data": {
      "text/plain": [
       "'BBC Verify finds higher quotes in parts of England even after crime and accident rates are included.'"
      ]
     },
     "execution_count": 92,
     "metadata": {},
     "output_type": "execute_result"
    }
   ],
   "source": [
    "large_data.iloc[4].summary"
   ]
  },
  {
   "cell_type": "code",
   "execution_count": 74,
   "metadata": {},
   "outputs": [],
   "source": [
    "test = large_data.iloc[10]"
   ]
  },
  {
   "cell_type": "code",
   "execution_count": 75,
   "metadata": {},
   "outputs": [],
   "source": [
    "test[\"category\"] = pred_label[10]"
   ]
  },
  {
   "cell_type": "code",
   "execution_count": 76,
   "metadata": {},
   "outputs": [
    {
     "data": {
      "text/plain": [
       "title        Ryanair warns of 10% fare rise as new planes d...\n",
       "summary      Airline boss Michael O'Leary says prices could...\n",
       "image_url    https://ichef.bbci.co.uk/ace/standard/240/cpsp...\n",
       "published                        Mon, 26 Feb 2024 07:08:16 GMT\n",
       "url               https://www.bbc.co.uk/news/business-68398421\n",
       "images                                            IMAGE_11.jpg\n",
       "category                                               Finance\n",
       "Name: 10, dtype: object"
      ]
     },
     "execution_count": 76,
     "metadata": {},
     "output_type": "execute_result"
    }
   ],
   "source": [
    "test"
   ]
  },
  {
   "cell_type": "code",
   "execution_count": null,
   "metadata": {},
   "outputs": [],
   "source": []
  }
 ],
 "metadata": {
  "kernelspec": {
   "display_name": "Python 3",
   "language": "python",
   "name": "python3"
  },
  "language_info": {
   "codemirror_mode": {
    "name": "ipython",
    "version": 3
   },
   "file_extension": ".py",
   "mimetype": "text/x-python",
   "name": "python",
   "nbconvert_exporter": "python",
   "pygments_lexer": "ipython3",
   "version": "3.10.4"
  }
 },
 "nbformat": 4,
 "nbformat_minor": 2
}
