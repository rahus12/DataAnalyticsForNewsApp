{
 "cells": [
  {
   "cell_type": "code",
   "execution_count": null,
   "metadata": {},
   "outputs": [
    {
     "data": {
      "text/plain": [
       "<firebase_admin.App at 0x17fe65659c0>"
      ]
     },
     "execution_count": 1,
     "metadata": {},
     "output_type": "execute_result"
    }
   ],
   "source": [
    "\n",
    "import csv\n",
    "import firebase_admin\n",
    "from firebase_admin import credentials, firestore\n",
    "\n",
    "\n",
    "# Initialize Firebase Admin SDK\n",
    "cred = credentials.Certificate(\"ServiceAccountKey.json\")\n",
    "firebase_admin.initialize_app(cred)"
   ]
  },
  {
   "cell_type": "code",
   "execution_count": 2,
   "metadata": {},
   "outputs": [],
   "source": [
    "db = firestore.client()"
   ]
  },
  {
   "cell_type": "code",
   "execution_count": 3,
   "metadata": {},
   "outputs": [],
   "source": [
    "csv_file_path = \"Large_news_dataset.csv\"  # Replace with your CSV file path\n",
    "collection_name = \"articles\""
   ]
  },
  {
   "cell_type": "code",
   "execution_count": 4,
   "metadata": {},
   "outputs": [],
   "source": [
    "import pandas as pd"
   ]
  },
  {
   "cell_type": "code",
   "execution_count": 39,
   "metadata": {},
   "outputs": [],
   "source": [
    "data = pd.read_csv(\"large_news_dataset_modified.csv\")"
   ]
  },
  {
   "cell_type": "code",
   "execution_count": 40,
   "metadata": {},
   "outputs": [
    {
     "data": {
      "text/html": [
       "<div>\n",
       "<style scoped>\n",
       "    .dataframe tbody tr th:only-of-type {\n",
       "        vertical-align: middle;\n",
       "    }\n",
       "\n",
       "    .dataframe tbody tr th {\n",
       "        vertical-align: top;\n",
       "    }\n",
       "\n",
       "    .dataframe thead th {\n",
       "        text-align: right;\n",
       "    }\n",
       "</style>\n",
       "<table border=\"1\" class=\"dataframe\">\n",
       "  <thead>\n",
       "    <tr style=\"text-align: right;\">\n",
       "      <th></th>\n",
       "      <th>title</th>\n",
       "      <th>summary</th>\n",
       "      <th>image_url</th>\n",
       "      <th>published</th>\n",
       "      <th>url</th>\n",
       "      <th>images</th>\n",
       "    </tr>\n",
       "  </thead>\n",
       "  <tbody>\n",
       "    <tr>\n",
       "      <th>0</th>\n",
       "      <td>PM under pressure to respond to row over Lee A...</td>\n",
       "      <td>The PM is to face BBC interviews this morning ...</td>\n",
       "      <td>https://ichef.bbci.co.uk/ace/standard/240/cpsp...</td>\n",
       "      <td>Mon, 26 Feb 2024 06:52:38 GMT</td>\n",
       "      <td>https://www.bbc.co.uk/news/live/uk-68400238</td>\n",
       "      <td>IMAGE_1.jpg</td>\n",
       "    </tr>\n",
       "    <tr>\n",
       "      <th>1</th>\n",
       "      <td>What’s gone wrong at Royal Mail?</td>\n",
       "      <td>Lost letters, big losses and calls for reform:...</td>\n",
       "      <td>https://ichef.bbci.co.uk/ace/standard/240/cpsp...</td>\n",
       "      <td>Mon, 26 Feb 2024 00:01:07 GMT</td>\n",
       "      <td>https://www.bbc.co.uk/news/business-68382286</td>\n",
       "      <td>IMAGE_2.jpg</td>\n",
       "    </tr>\n",
       "    <tr>\n",
       "      <th>2</th>\n",
       "      <td>More young people out of work due to health, s...</td>\n",
       "      <td>A Resolution Foundation report is calling for ...</td>\n",
       "      <td>https://ichef.bbci.co.uk/ace/standard/240/cpsp...</td>\n",
       "      <td>Mon, 26 Feb 2024 04:57:32 GMT</td>\n",
       "      <td>https://www.bbc.co.uk/news/health-68399392</td>\n",
       "      <td>IMAGE_3.jpg</td>\n",
       "    </tr>\n",
       "    <tr>\n",
       "      <th>3</th>\n",
       "      <td>Rail services in South East hit by signal failure</td>\n",
       "      <td>Thameslink Govia says it is unable to run any ...</td>\n",
       "      <td>https://ichef.bbci.co.uk/ace/standard/240/cpsp...</td>\n",
       "      <td>Mon, 26 Feb 2024 07:01:21 GMT</td>\n",
       "      <td>https://www.bbc.co.uk/news/uk-england-sussex-6...</td>\n",
       "      <td>IMAGE_4.jpg</td>\n",
       "    </tr>\n",
       "    <tr>\n",
       "      <th>4</th>\n",
       "      <td>Diverse areas face car insurance 'ethnicity' bill</td>\n",
       "      <td>BBC Verify finds higher quotes in parts of Eng...</td>\n",
       "      <td>https://ichef.bbci.co.uk/ace/standard/240/cpsp...</td>\n",
       "      <td>Mon, 26 Feb 2024 00:29:05 GMT</td>\n",
       "      <td>https://www.bbc.co.uk/news/business-68349396</td>\n",
       "      <td>IMAGE_5.jpg</td>\n",
       "    </tr>\n",
       "  </tbody>\n",
       "</table>\n",
       "</div>"
      ],
      "text/plain": [
       "                                               title  \\\n",
       "0  PM under pressure to respond to row over Lee A...   \n",
       "1                   What’s gone wrong at Royal Mail?   \n",
       "2  More young people out of work due to health, s...   \n",
       "3  Rail services in South East hit by signal failure   \n",
       "4  Diverse areas face car insurance 'ethnicity' bill   \n",
       "\n",
       "                                             summary  \\\n",
       "0  The PM is to face BBC interviews this morning ...   \n",
       "1  Lost letters, big losses and calls for reform:...   \n",
       "2  A Resolution Foundation report is calling for ...   \n",
       "3  Thameslink Govia says it is unable to run any ...   \n",
       "4  BBC Verify finds higher quotes in parts of Eng...   \n",
       "\n",
       "                                           image_url  \\\n",
       "0  https://ichef.bbci.co.uk/ace/standard/240/cpsp...   \n",
       "1  https://ichef.bbci.co.uk/ace/standard/240/cpsp...   \n",
       "2  https://ichef.bbci.co.uk/ace/standard/240/cpsp...   \n",
       "3  https://ichef.bbci.co.uk/ace/standard/240/cpsp...   \n",
       "4  https://ichef.bbci.co.uk/ace/standard/240/cpsp...   \n",
       "\n",
       "                       published  \\\n",
       "0  Mon, 26 Feb 2024 06:52:38 GMT   \n",
       "1  Mon, 26 Feb 2024 00:01:07 GMT   \n",
       "2  Mon, 26 Feb 2024 04:57:32 GMT   \n",
       "3  Mon, 26 Feb 2024 07:01:21 GMT   \n",
       "4  Mon, 26 Feb 2024 00:29:05 GMT   \n",
       "\n",
       "                                                 url       images  \n",
       "0        https://www.bbc.co.uk/news/live/uk-68400238  IMAGE_1.jpg  \n",
       "1       https://www.bbc.co.uk/news/business-68382286  IMAGE_2.jpg  \n",
       "2         https://www.bbc.co.uk/news/health-68399392  IMAGE_3.jpg  \n",
       "3  https://www.bbc.co.uk/news/uk-england-sussex-6...  IMAGE_4.jpg  \n",
       "4       https://www.bbc.co.uk/news/business-68349396  IMAGE_5.jpg  "
      ]
     },
     "execution_count": 40,
     "metadata": {},
     "output_type": "execute_result"
    }
   ],
   "source": [
    "data.head()"
   ]
  },
  {
   "cell_type": "code",
   "execution_count": 13,
   "metadata": {},
   "outputs": [],
   "source": [
    "doc_ref = db.collection(collection_name)"
   ]
  },
  {
   "cell_type": "code",
   "execution_count": 41,
   "metadata": {},
   "outputs": [
    {
     "data": {
      "text/plain": [
       "Index(['title', 'summary', 'image_url', 'published', 'url', 'images'], dtype='object')"
      ]
     },
     "execution_count": 41,
     "metadata": {},
     "output_type": "execute_result"
    }
   ],
   "source": [
    "data.columns"
   ]
  },
  {
   "cell_type": "code",
   "execution_count": 7,
   "metadata": {},
   "outputs": [],
   "source": [
    "from datetime import datetime\n",
    "import firebase_admin\n",
    "import pytz"
   ]
  },
  {
   "cell_type": "code",
   "execution_count": 43,
   "metadata": {},
   "outputs": [
    {
     "data": {
      "text/plain": [
       "'Mon, 26 Feb 2024 07:34:37 '"
      ]
     },
     "execution_count": 43,
     "metadata": {},
     "output_type": "execute_result"
    }
   ],
   "source": [
    "data['published'][175]"
   ]
  },
  {
   "cell_type": "code",
   "execution_count": 44,
   "metadata": {},
   "outputs": [],
   "source": [
    "def convert_to_firestore_timestamp(time_string):\n",
    "    \"\"\"\n",
    "    Convert a GMT time string to a Firestore timestamp\n",
    "    Args:\n",
    "        time_string (str): Time string in format 'Mon, 26 Feb 2024 06:52:38 GMT'\n",
    "    Returns:\n",
    "        google.cloud.firestore.SERVER_TIMESTAMP: Firestore timestamp object\n",
    "    \"\"\"\n",
    "    # Parse the time string to datetime object\n",
    "    try:\n",
    "        dt = datetime.strptime(time_string, '%a, %d %b %Y %H:%M:%S GMT')\n",
    "    except:\n",
    "        dt = datetime.strptime(time_string + 'GMT', '%a, %d %b %Y %H:%M:%S GMT')\n",
    "    \n",
    "    # Ensure the datetime is timezone-aware (GMT/UTC)\n",
    "    dt = pytz.timezone('GMT').localize(dt)\n",
    "    \n",
    "    # Return the datetime object directly - Firestore will convert it automatically\n",
    "    return dt"
   ]
  },
  {
   "cell_type": "code",
   "execution_count": 46,
   "metadata": {},
   "outputs": [
    {
     "name": "stdout",
     "output_type": "stream",
     "text": [
      "2024-02-26 06:52:38+00:00\n"
     ]
    }
   ],
   "source": [
    "time_string = 'Mon, 26 Feb 2024 06:52:38 '\n",
    "firestore_timestamp = convert_to_firestore_timestamp(time_string)\n",
    "print(firestore_timestamp)"
   ]
  },
  {
   "cell_type": "code",
   "execution_count": null,
   "metadata": {},
   "outputs": [
    {
     "name": "stdout",
     "output_type": "stream",
     "text": [
      "Error at index:  5390\n",
      "Error at index:  5391\n",
      "Error at index:  5900\n",
      "Error at index:  5901\n",
      "Error at index:  5902\n",
      "Error at index:  5903\n",
      "Error at index:  5904\n",
      "Error at index:  5905\n",
      "Error at index:  5906\n",
      "Error at index:  5907\n",
      "Error at index:  5908\n",
      "Error at index:  5909\n",
      "Error at index:  5910\n",
      "Error at index:  5911\n",
      "Error at index:  5912\n",
      "Error at index:  5913\n",
      "Error at index:  5914\n",
      "Error at index:  5915\n",
      "Error at index:  5916\n",
      "Error at index:  5917\n",
      "Error at index:  5918\n",
      "Error at index:  5919\n",
      "Error at index:  6597\n",
      "Error at index:  6598\n",
      "Error at index:  6599\n",
      "Error at index:  6600\n",
      "Error at index:  6601\n",
      "Error at index:  6602\n",
      "Error at index:  6603\n",
      "Error at index:  6604\n",
      "Error at index:  6605\n",
      "Error at index:  6606\n",
      "Error at index:  6607\n",
      "Error at index:  6608\n",
      "Error at index:  6609\n",
      "Error at index:  6610\n",
      "Error at index:  6611\n",
      "Error at index:  6612\n",
      "Error at index:  6613\n",
      "Error at index:  6614\n",
      "Error at index:  6615\n",
      "Error at index:  6616\n",
      "Error at index:  6617\n",
      "Error at index:  6618\n",
      "Error at index:  7332\n",
      "Error at index:  7333\n",
      "Error at index:  7334\n",
      "Error at index:  7335\n",
      "Error at index:  7336\n",
      "Error at index:  7337\n",
      "Error at index:  7338\n",
      "Error at index:  7339\n",
      "Error at index:  7340\n",
      "Error at index:  7341\n",
      "Error at index:  7342\n",
      "Error at index:  7343\n",
      "Error at index:  7344\n",
      "Error at index:  7911\n",
      "Error at index:  7912\n",
      "Error at index:  7913\n",
      "Error at index:  8121\n",
      "Error at index:  8458\n",
      "Error at index:  8459\n",
      "Error at index:  8460\n",
      "Error at index:  8461\n",
      "Error at index:  8462\n",
      "Error at index:  8463\n",
      "Error at index:  8464\n",
      "Error at index:  9071\n",
      "Error at index:  9072\n",
      "Error at index:  9073\n",
      "Error at index:  9074\n",
      "Error at index:  9075\n",
      "Error at index:  9076\n",
      "Error at index:  9077\n",
      "Error at index:  9078\n",
      "Error at index:  9079\n",
      "Error at index:  9080\n",
      "Error at index:  9081\n",
      "Error at index:  9082\n",
      "Error at index:  9083\n",
      "Error at index:  9084\n",
      "Error at index:  9085\n",
      "Error at index:  9086\n",
      "Error at index:  9087\n",
      "Error at index:  9088\n",
      "Error at index:  9089\n",
      "Error at index:  9090\n",
      "Error at index:  9091\n",
      "Error at index:  9092\n",
      "Error at index:  9093\n",
      "Error at index:  9094\n",
      "Error at index:  9095\n",
      "Error at index:  9096\n",
      "Error at index:  9161\n",
      "Error at index:  9445\n"
     ]
    }
   ],
   "source": [
    "for i in range(len(data)):\n",
    "    try:\n",
    "        doc_ref.add({    \n",
    "            'title': data['title'][i],\n",
    "            'content': data['summary'][i],\n",
    "            'published_at': convert_to_firestore_timestamp(data['published'][i]),\n",
    "            'url': data['image_url'][i],\n",
    "            'sentiment': \"\"\n",
    "        })\n",
    "    except:\n",
    "        print(\"Error at index: \", i)"
   ]
  },
  {
   "cell_type": "code",
   "execution_count": 50,
   "metadata": {},
   "outputs": [],
   "source": [
    "import requests"
   ]
  },
  {
   "cell_type": "code",
   "execution_count": 68,
   "metadata": {},
   "outputs": [
    {
     "data": {
      "text/plain": [
       "'Rail services in South East hit by signal failure'"
      ]
     },
     "execution_count": 68,
     "metadata": {},
     "output_type": "execute_result"
    }
   ],
   "source": [
    "small_data.iloc[3].title"
   ]
  },
  {
   "cell_type": "code",
   "execution_count": 69,
   "metadata": {},
   "outputs": [],
   "source": [
    "url = \"http://35.94.30.116:8000/generate\"\n",
    "headers = {'Content-Type': 'application/json'}\n",
    "payload = {\"news_article\": small_data.iloc[4].title + \" \" + small_data.iloc[4].summary}"
   ]
  },
  {
   "cell_type": "code",
   "execution_count": 70,
   "metadata": {},
   "outputs": [],
   "source": [
    "response = requests.post(\n",
    "        url=url,\n",
    "        headers=headers,\n",
    "        json=payload,  # requests will automatically convert dict to JSON\n",
    "        timeout=30  # timeout in seconds\n",
    "    )\n",
    "\n"
   ]
  },
  {
   "cell_type": "code",
   "execution_count": 71,
   "metadata": {},
   "outputs": [
    {
     "data": {
      "text/plain": [
       "{'sentiment': 'Negative\\n\\nThe article has an overall negative sentiment as it highlights potential discrimination in the car insurance industry against residents of ethnically diverse communities who face much higher premiums through no direct fault of their own. The investigation revealing these disparities prompts concerns about racial profiling, indirect discrimination and lack of fairness in insurance pricing.',\n",
       " 'summary': \"A BBC investigation found evidence of higher car insurance premiums in ethnically diverse areas of England, even when controlling for crime rates and accident statistics. In some neighborhoods, premiums were over £1,000 higher than nearby areas with less ethnic diversity. The investigation analyzed over 31 million quotes across England and revealed disparities in areas like Bradford, Luton and parts of London. Critics argue this amounts to racial profiling and indirect discrimination based on ethnicity and socioeconomic status. The Financial Conduct Authority is considering banning 'price walking' techniques that raise premiums based on customers' personal data. Campaigners say regulation is needed to stop insurers charging higher premiums based solely on demographics rather than risk factors.\"}"
      ]
     },
     "execution_count": 71,
     "metadata": {},
     "output_type": "execute_result"
    }
   ],
   "source": [
    "response.json()"
   ]
  },
  {
   "cell_type": "code",
   "execution_count": null,
   "metadata": {},
   "outputs": [],
   "source": []
  },
  {
   "cell_type": "code",
   "execution_count": null,
   "metadata": {},
   "outputs": [],
   "source": []
  }
 ],
 "metadata": {
  "kernelspec": {
   "display_name": "Python 3",
   "language": "python",
   "name": "python3"
  },
  "language_info": {
   "codemirror_mode": {
    "name": "ipython",
    "version": 3
   },
   "file_extension": ".py",
   "mimetype": "text/x-python",
   "name": "python",
   "nbconvert_exporter": "python",
   "pygments_lexer": "ipython3",
   "version": "3.10.4"
  }
 },
 "nbformat": 4,
 "nbformat_minor": 2
}
